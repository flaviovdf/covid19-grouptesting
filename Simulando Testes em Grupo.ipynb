{
 "cells": [
  {
   "cell_type": "code",
   "execution_count": 1,
   "metadata": {},
   "outputs": [],
   "source": [
    "# -*- coding: utf8\n",
    "\n",
    "\n",
    "from numba import jit\n",
    "\n",
    "\n",
    "import matplotlib.pyplot as plt\n",
    "import numpy as np"
   ]
  },
  {
   "cell_type": "code",
   "execution_count": 2,
   "metadata": {},
   "outputs": [],
   "source": [
    "def init_matplotlib():\n",
    "    plt.rcParams['axes.labelsize'] = 12\n",
    "    plt.rcParams['axes.titlesize'] = 12\n",
    "    plt.rcParams['legend.fontsize'] = 12\n",
    "    plt.rcParams['xtick.labelsize'] = 12\n",
    "    plt.rcParams['ytick.labelsize'] = 12\n",
    "    plt.rcParams['lines.linewidth'] = 3\n",
    "    plt.rcParams['font.family'] = 'serif'\n",
    "    plt.style.use('tableau-colorblind10')\n",
    "    \n",
    "\n",
    "def despine(ax=None):\n",
    "    if ax is None:\n",
    "        ax = plt.gca()\n",
    "\n",
    "    # Hide the right and top spines\n",
    "    ax.spines['right'].set_visible(False)\n",
    "    ax.spines['top'].set_visible(False)\n",
    "\n",
    "    # Only show ticks on the left and bottom spines\n",
    "    ax.yaxis.set_ticks_position('left')\n",
    "    ax.xaxis.set_ticks_position('bottom')"
   ]
  },
  {
   "cell_type": "code",
   "execution_count": 3,
   "metadata": {},
   "outputs": [],
   "source": [
    "init_matplotlib()\n",
    "plt.ion()"
   ]
  },
  {
   "cell_type": "markdown",
   "metadata": {},
   "source": [
    "# Introdução\n",
    "\n",
    "\n",
    "Este documento apresenta um resumo das abordagens de testagem em grupo que vêm sendo feitas no mundo no contexto do vírus SARS-COV-2. No teste de indivíduos, um exame PCR é feito para cada membro da amostra sendo considerada. Com o propósito de testar mais indivíduos com um mesmo número de testes, o teste em grupos vem sendo utilizado como uma alternativa em países como Israel [7] e Alemanha [4,6]. \n",
    "\n",
    "\n",
    "Em 31 de Janeiro de 2019, o primeiro caso de um paciente infectado com o vírus SARS-COV-2 foi detectado [9]. Desde lá, o surto da doença chamadas de COVID-19 se alastrou causando uma pandemia de escala global. Em tal cenário, a necessidade de urgência na testagem da prevalência do vírus SARS-COV-2 na população é essencial. \n",
    "\n",
    "Visando aumentar a eficácia de testagem na cidade de Belo Horizonte, neste relatório é apresentado um resumo das principais abordagens de testagem em grupo [2]. Inicialmente proposta por Dorfman [2] no contexto de entender a prevalência de sífilis o exército estadunidense na segunda guerra mundial, testes em grupo hoje dia constitui uma área de pesquisa por si só [3]. O importante é que, no contexto do COVID-19, a implementação de tal abordagem de testagem é relativamente simples [1, 4, 5, 6, 7, 8]. \n",
    "\n",
    "Para exemplificar a eficácia dos testes em grupos, podemos explorar o resultado de Yelin, Idan, et al. [8]. Aqui, os autores identificaram que é possível juntar amostras de até 32 indivíduos e ainda assim identificar a presença do vírus em tal amostra conjunta. Observe aqui que caso o teste seja falso, é possível afirmar, assumindo uma probabilidade de erro, que nenhum dos 32 indivíduos estão infectados. Assim, podemos descartar tais casos e focar apenas nos grupos onde o teste foi positivo.\n",
    "\n",
    "É importante ressaltar que o problema dois problemas afetam qualquer testagem, os falsos negativos (complemento da especificidade, ou erro tipo 2) e os falsos positivos (complemento da sensitividade,  ou erro tipo 1). No caso de falsos positivos, o teste no grupo vai gerar novos testes, dando assim mais oportunidades para acertos. Assim, o problema maior surge dos falsos negativos, onde todo um grupo é descartado. Yelin, Idan, et al. [8] demonstram que a taxa de falsos negativos  por indivíduo é comparável, não sendo muito menor que, o teste individual quando se usa grupo de 32 indivíduos. É importante ressaltar que a metodologia e tipo de teste pode afetar tais resultados."
   ]
  },
  {
   "cell_type": "markdown",
   "metadata": {},
   "source": [
    "## Abordagem PN Sk Dx\n",
    "\n",
    "Primeiramento vamos sumarizar um método recente em vários estágios. Usando termos genéricos, vamos primeiramente definir $N$ como sendo o tamanho do grupo inicial. Em nossos exemplos, $N=32$. Vamos também definir quantos estágios queremos. O número de estágios determina o número máximo de amostras que devemos coletar. Tal valor será denominado de $k$. Na abordagem de dois estágios $k=2$, sendo este o caso original estudado por Dorfman [2]. Por fim, o valor $x$ determina quantos subgrupos podem ser criados em cada estágio. Com $x=2$, cada estágio gera dois. O processo se repete no máximo $k$ vezes.\n",
    "\n",
    "Com os termos acima, podemos derivar a expressão abaixo que relaciona os mesmos:\n",
    "\n",
    "$$N = x^{k-1}$$\n",
    "\n",
    "É intuitivo chegar em tal expressão quando pensamos que: um grupo inicial de $N$ pessoas vai ser particionado em $x$ outros de tamanhos iguais. O processo vai se repetir $k-1$ vezes. O $-1$ vem do fato que sempre iniciamos com um grupo tota. Para entender o resultado, na busca binária acima partimos de $N=32$ e $x=2$. O número de testes máximo por pessoa, k, é determinado tirando o $log_{x}$ da expressão acima.\n",
    "\n",
    "O importante da expressão acima é que a mesma pode ser utilizada para testes mais gerais [4]. Tal esquemas são chamados de PN Sk Dx. Partições de tamanho $N$ para $k$ estágios (ou stages em inglês). Para exemplificar o método, abaixo copiamos a figura dos autores. Nesta figura, os mesmos consideran $x=4$.\n",
    "\n",
    "\n",
    "![](https://ars.els-cdn.com/content/image/1-s2.0-S1386653220301244-gr1_lrg.jpg)"
   ]
  },
  {
   "cell_type": "code",
   "execution_count": 4,
   "metadata": {},
   "outputs": [],
   "source": [
    "@jit('void(int64, int64, int64, int64[::1], float64, float64, int64[::1])', nopython=True)\n",
    "def simulate_pnsk(n, k, x, pop, fnr_s, fnr_g, store_results):\n",
    "    '''\n",
    "    Simulates the PNSK testing scheme defined in [4].\n",
    "    \n",
    "    Arguments\n",
    "    ---------\n",
    "    n:             Group size\n",
    "    k:             Number of stages\n",
    "    x:             How to divide groups in each step\n",
    "    pop:           Population. List or numpy array of ones and zeroes.\n",
    "                   One means infected. True or False also works.\n",
    "    fnr_s:         False negative rate for single tests\n",
    "    fnr_g:         False negative rate for group tests\n",
    "    store_results: An int array of size 2. Results for number of tests\n",
    "                   and number of false positives are stored here.\n",
    "    '''\n",
    "        \n",
    "    pop_size = len(pop)\n",
    "    if k == 1:\n",
    "        loss = 0\n",
    "        for i in range(pop_size):\n",
    "            if pop[i] == 1 and np.random.rand() < fnr_s:\n",
    "                loss += 1\n",
    "        store_results[0] += pop_size\n",
    "        store_results[1] += loss # false negative on the singles\n",
    "        return\n",
    "       \n",
    "    plate_bg = 0\n",
    "    plate_ed = min(n, pop_size)\n",
    "    while plate_ed - plate_bg > 0:\n",
    "        store_results[0] += 1\n",
    "        plate = pop[plate_bg:plate_ed]\n",
    "\n",
    "        if plate.sum() > 0:\n",
    "            # false negative on the group\n",
    "            if np.random.rand() < fnr_g:\n",
    "                store_results[1] += plate.sum()\n",
    "            else:\n",
    "                plate_size = len(plate)\n",
    "                new_plate_size = plate_size // x\n",
    "\n",
    "                split_bg = 0\n",
    "                split_ed = new_plate_size\n",
    "                while split_ed - split_bg > 0:\n",
    "                    new_plate = plate[split_bg:split_ed]\n",
    "                    simulate_pnsk(n, k-1, x, new_plate, fnr_s, fnr_g,\n",
    "                                  store_results)\n",
    "                    split_bg = split_ed\n",
    "                    split_ed = min(split_ed + new_plate_size, plate_size)\n",
    "            \n",
    "        plate_bg = plate_ed\n",
    "        plate_ed = min(plate_ed + n, pop_size)\n",
    "\n",
    "\n",
    "def multi_pnsk(n, k, x, p, pop_size, fnr_s, fnr_g, sims=10000):\n",
    "    '''\n",
    "    Simulates the PNSK testing scheme defined in [4] multiple times.\n",
    "    \n",
    "    Arguments\n",
    "    ---------\n",
    "    n:         Group size\n",
    "    k:         Number of stages\n",
    "    x:         How to divide groups in each step\n",
    "    p:         Fraction of infected\n",
    "    pop_size:  Size of the initial population in each simulation\n",
    "    fnr_s:     False negative rate for single tests\n",
    "    fnr_g:     False negative rate for group tests\n",
    "    sims:      Number of repetitions. Each one is a randomized population.\n",
    "    \n",
    "    Returns\n",
    "    -------\n",
    "    A numpy array with the number of tests performed in each simulation.\n",
    "    The second value of the array returns the number of false positives.\n",
    "    '''\n",
    "\n",
    "    infected = np.random.binomial(pop_size, p, sims)    \n",
    "    rv = np.zeros(shape=(sims, 2), dtype='int64', order='C')\n",
    "    pop = np.zeros(pop_size, dtype='int64', order='C')\n",
    "    for i in range(sims):\n",
    "        ni = infected[i]\n",
    "        pop[:] = 0               # new population\n",
    "        pop[:ni] = 1             # infect p %\n",
    "        np.random.shuffle(pop)   # randomize the p %\n",
    "        \n",
    "        simulate_pnsk(n, k, x, pop, fnr_s, fnr_g, rv[i])\n",
    "        \n",
    "    return rv"
   ]
  },
  {
   "cell_type": "code",
   "execution_count": 5,
   "metadata": {},
   "outputs": [],
   "source": [
    "pop = np.zeros(32, dtype='int64', order='C')\n",
    "pop[0] = 1\n",
    "rv = np.zeros(2, dtype='int64', order='C')\n",
    "simulate_pnsk(16, 3, 4, pop, 0, 0, rv)\n",
    "assert rv[0] == 10\n",
    "assert rv[1] == 0"
   ]
  },
  {
   "cell_type": "code",
   "execution_count": 6,
   "metadata": {},
   "outputs": [],
   "source": [
    "pop = np.zeros(32, dtype='int64', order='C')\n",
    "pop[0] = 1\n",
    "rv[:] = 0\n",
    "simulate_pnsk(16, 3, 4, pop, 0, 1, rv)\n",
    "assert rv[0] == 2\n",
    "assert rv[1] == 1"
   ]
  },
  {
   "cell_type": "code",
   "execution_count": 7,
   "metadata": {},
   "outputs": [],
   "source": [
    "pop = np.zeros(32, dtype='int64', order='C')\n",
    "pop[0] = 1\n",
    "rv[:] = 0\n",
    "simulate_pnsk(16, 3, 4, pop, 1, 0, rv)\n",
    "assert rv[0] == 10\n",
    "assert rv[1] == 1"
   ]
  },
  {
   "cell_type": "code",
   "execution_count": 8,
   "metadata": {},
   "outputs": [],
   "source": [
    "pop = np.zeros(18, dtype='int64', order='C')\n",
    "pop[0] = 1\n",
    "pop[-1] = 1\n",
    "rv = np.zeros(2, dtype='int64', order='C')\n",
    "simulate_pnsk(3, 2, 2, pop, 0, 0, rv)\n",
    "assert rv[0] == 12\n",
    "assert rv[1] == 0"
   ]
  },
  {
   "cell_type": "code",
   "execution_count": 9,
   "metadata": {},
   "outputs": [],
   "source": [
    "rv[:] = 0\n",
    "simulate_pnsk(3, 2, 2, pop, 0, 1, rv)\n",
    "assert rv[0] == 6\n",
    "assert rv[1] == 2"
   ]
  },
  {
   "cell_type": "markdown",
   "metadata": {},
   "source": [
    "## Testes em Matriz (ou Linhas e Colunas)\n",
    "\n",
    "Existe outro método em duas fases que não funciona de forma recursiva como o anterior. Tal metodologia é interessante pois permite a identificação de casos em no máximo 3 testes por pacientes. Sendo tal número fixo, assim como é na metodologia PN Sk Dx, as três amostras podem ser coletadas de uma só vez. O método está exemplificado na figura abaixo (dos autores [7]) e é implementado da forma agora descrita. \n",
    "\n",
    "Cada paciente ao ser organizado em uma única matriz de testagem vai fazer parte de dois grupos. O grupo da linha e o grupo da sua coluna. Tanto o grupo das linhas quando o grupo das colunas serão testados. Assim, cada paciente inicialmente faz parte de dois grupos distintos. Após essa primeira fase de dois testes, são excluídos tanto as linhas quanto as colunas com resultados negativos. Por fim, os pacientes restantes são testados individualmente.\n",
    "\n",
    "![](https://technopolymath.shinyapps.io/pooled_covid_testing/_w_47b252e1/images/diagram-grouptest-updated-4up.png)"
   ]
  },
  {
   "cell_type": "code",
   "execution_count": 10,
   "metadata": {},
   "outputs": [],
   "source": [
    "@jit('void(int64[:, ::1], float64, float64, int64[::1])', nopython=True)\n",
    "def matrix_test_single(M, fnr_s, fnr_g, store_results):\n",
    "    '''\n",
    "    Simulates the Matrix testing scheme defined in [7].\n",
    "    \n",
    "    Arguments\n",
    "    ---------\n",
    "    M:             A matrix representing the well. One indicates a positive, 0 a negative.\n",
    "    fnr_s:         False negative rate for single tests\n",
    "    fnr_g:         False negative rate for group tests\n",
    "    store_results: An int array of size 2. Results for number of tests\n",
    "                   and number of false positives are stored here.\n",
    "    '''\n",
    "\n",
    "    M = M.copy()\n",
    "    num_tests = M.shape[0] * M.shape[1]\n",
    "    \n",
    "    for row in range(M.shape[0]):\n",
    "        # false negative\n",
    "        if (M[row] > 0).any() and np.random.rand() < fnr_g:\n",
    "            store_results[1] += (M[row] > 0).sum()\n",
    "            num_tests = num_tests - M.shape[1]\n",
    "            M[row][:] = -1\n",
    "            continue\n",
    "            \n",
    "        if not (M[row] > 0).any():\n",
    "            num_tests = num_tests - M.shape[1]\n",
    "            M[row][:] = -1\n",
    "    \n",
    "    for col in range(M.shape[1]):\n",
    "        # false negative\n",
    "        if (M[:, col] > 0).any() and np.random.rand() < fnr_g:\n",
    "            store_results[1] += (M[:, col] > 0).sum()\n",
    "            num_tests = num_tests - M.shape[0]\n",
    "            num_tests += (M[:, col] == -1).sum()\n",
    "            continue\n",
    "            \n",
    "        if not (M[:, col] > 0).any():\n",
    "            num_tests = num_tests - M.shape[0]\n",
    "            num_tests += (M[:, col] == -1).sum()\n",
    "    \n",
    "    initial_tests = M.shape[0] + M.shape[1]\n",
    "    store_results[0] = num_tests + initial_tests\n",
    "    store_results[1] += (np.random.rand(num_tests) < fnr_s).sum()\n",
    "    \n",
    "\n",
    "def multi_matrix(n_rows, n_cols, p, fnr_s, fnr_g, sims=10000):\n",
    "    '''\n",
    "    Simulates the Matrix testing scheme defined in [2] multiple times.\n",
    "    \n",
    "    Arguments\n",
    "    ---------\n",
    "    n_rows: Number of rows on the well plate\n",
    "    n_cols: Number of columns on the well plate\n",
    "    p:      Fraction of infected\n",
    "    fnr_s:  False negative rate for single tests\n",
    "    fnr_g:  False negative rate for group tests\n",
    "    sims:   Number of repetitions. Each one is a randomized population.\n",
    "    \n",
    "    \n",
    "    Returns\n",
    "    -------\n",
    "    A numpy array with the number of tests performed in each simulation.\n",
    "    The second value of the array returns the number of false positives.\n",
    "    '''\n",
    "        \n",
    "    M = np.zeros(shape=(n_rows, n_cols), dtype='int64', order='C')\n",
    "    size = M.shape[0] * M.shape[1]\n",
    "    rv = np.zeros(shape=(sims, 2), dtype='int64', order='C')\n",
    "    for i in range(sims):\n",
    "        to_infect = np.random.rand(size) < p\n",
    "        M[:] = 0\n",
    "        M.ravel()[to_infect] = 1\n",
    "        matrix_test_single(M, fnr_s, fnr_g, rv[i])\n",
    "    return rv"
   ]
  },
  {
   "cell_type": "code",
   "execution_count": 11,
   "metadata": {},
   "outputs": [],
   "source": [
    "M = np.zeros(shape=(8, 12), dtype='int64', order='C')\n",
    "M[1, 6] = 1\n",
    "M[2, 10] = 1\n",
    "M[4, 2] = 1\n",
    "M[4, 10] = 1\n",
    "M[6, 5] = 1\n",
    "rv = np.zeros(2, dtype='int64', order='C')\n",
    "matrix_test_single(M, 0, 0, rv)\n",
    "assert rv[0] == 36\n",
    "assert rv[1] == 0"
   ]
  },
  {
   "cell_type": "code",
   "execution_count": 12,
   "metadata": {},
   "outputs": [],
   "source": [
    "rv[:] = 0\n",
    "matrix_test_single(M, 0, 1, rv)\n",
    "assert rv[0] == 20\n",
    "assert rv[1] == 5"
   ]
  },
  {
   "cell_type": "markdown",
   "metadata": {},
   "source": [
    "## Simulações\n",
    "\n",
    "Para averiguar a eficácia das propostas, foram implementados e simulados o método PN Sk Dx [4] e o método em Linhas e Colunas [7]. Para o método PNSk, testamos o mesmo com N=32 e N=16. Nos dois casos foi fixado k=2. Além do mais, em cada etapa dividimos os grupos em dois outros (x=2). Os autores do método PN Sk Dx avaliam seu método em número de testes. Caso seja possível realizar mais de um teste com uma única amostra (swab), os resultados devem melhorar.\n",
    "\n",
    "No método de Linhas e Colunas fixamos 12 linhas e 8 colunas como sugerido pelos autores. Os autores do método Linhas e Colunas assumem que uma única amostra (swab) pode ser utilizada para vários testes. Não sei se isto é factível, afinal não sou biólogo.No primeiro um único swab é feito por paciente. Tal swab poderia ser utilizado para os três testes. No segundo, consideramos a situação de fazer três coletas de swab. Caso uma única amostra possa ser utilizada para três testes, os resultados de uma coleta devem ser considerados. Caso sejam feitas três coletas, o método piora por um fator de 3x.\n",
    "\n",
    "### Eficácia"
   ]
  },
  {
   "cell_type": "code",
   "execution_count": 13,
   "metadata": {},
   "outputs": [],
   "source": [
    "ps = np.linspace(0.01, 0.15, 50)\n",
    "\n",
    "x = []\n",
    "ym = []\n",
    "yp16s2 = []\n",
    "yp32s2 = []\n",
    "\n",
    "for i, p in enumerate(ps):\n",
    "    mat = multi_matrix(8, 12, p, 0, 0)[:, 0].mean() / (8 * 12)\n",
    "    p16s2 = multi_pnsk(16, 2, 2, p, 5000, 0, 0, 5000)[:, 0].mean() / 5000\n",
    "    p32s2 = multi_pnsk(32, 2, 2, p, 5000, 0, 0, 5000)[:, 0].mean() / 5000\n",
    "        \n",
    "    x.append(p)\n",
    "    ym.append(mat)\n",
    "    yp16s2.append(p16s2)\n",
    "    yp32s2.append(p32s2)"
   ]
  },
  {
   "cell_type": "code",
   "execution_count": 14,
   "metadata": {},
   "outputs": [
    {
     "data": {
      "image/png": "[encoded data removed]",
      "text/plain": [
       "<Figure size 864x576 with 1 Axes>"
      ]
     },
     "metadata": {
      "needs_background": "light"
     },
     "output_type": "display_data"
    }
   ],
   "source": [
    "fig, ax = plt.subplots(figsize=(12, 8))\n",
    "\n",
    "x = np.array(x)\n",
    "ym = np.array(ym)\n",
    "yp16s2 = np.array(yp16s2)\n",
    "yp32s2 = np.array(yp32s2)\n",
    "\n",
    "ax.scatter(x, 1.0 / (ym), s=64, edgecolor='k', zorder=2, label='Linhas e Colunas (12 por 8). 1 coleta.')\n",
    "ax.plot(x, 1.0 / (ym), color='k', zorder=1, lw=2)\n",
    "\n",
    "ax.scatter(x, 1.0 / (ym*3), s=64, edgecolor='k', zorder=2, label='Linhas e Colunas (12 por 8). 3 coletas.')\n",
    "ax.plot(x, 1.0 / (ym*3), color='k', zorder=1, lw=2)\n",
    "\n",
    "ax.scatter(x, 1.0 / yp16s2, s=64, edgecolor='k', zorder=2, label='P16S2 com x=2')\n",
    "ax.plot(x, 1.0 / yp16s2, color='k', zorder=1, lw=2)\n",
    "\n",
    "ax.scatter(x, 1.0 / yp32s2, s=64, edgecolor='k', zorder=2, label='P32S2 com x=2')\n",
    "ax.plot(x, 1.0 / yp32s2, color='k', zorder=1, lw=2)\n",
    "\n",
    "ax.axhline(1, ls='--', color='grey', lw=2, zorder=1)\n",
    "\n",
    "ax.axvline(0.03, ls='--', lw=1, zorder=1, color='green')\n",
    "ax.axvline(0.12, ls='--', lw=1, zorder=1, color='red')\n",
    "\n",
    "ax.set_xlabel('Prevalência. Fração de infectados - p')\n",
    "ax.set_ylabel('Economia. 4x quer dizer 25% de testes em realação ao caso base')\n",
    "\n",
    "ax.text(0.032, 5, 'Prevalência nos profissionais\\nde saúde de BH.',\n",
    "        horizontalalignment='left', verticalalignment='center')\n",
    "\n",
    "ax.text(0.122, 5, 'Prevalência nos óbitos por SRAG\\nem BH.',\n",
    "        horizontalalignment='left', verticalalignment='center')\n",
    "\n",
    "plt.legend()\n",
    "\n",
    "despine()"
   ]
  },
  {
   "cell_type": "markdown",
   "metadata": {},
   "source": [
    "### Impacto de Falsos Negativos"
   ]
  },
  {
   "cell_type": "code",
   "execution_count": null,
   "metadata": {},
   "outputs": [],
   "source": [
    "ps = [0.025, 0.05, 0.075, 0.1]\n",
    "\n",
    "popsize = 5000\n",
    "\n",
    "plots_mat = []\n",
    "plots_pns = []\n",
    "\n",
    "for p in ps:\n",
    "    I_mat = np.zeros(shape=(5, 6), dtype='d')\n",
    "    I_pns = np.zeros(shape=(5, 6), dtype='d')\n",
    "    for i, fnr_s in enumerate(np.linspace(0.02, 0.2, 5)):\n",
    "        for j, inc in enumerate(np.linspace(0, 1.8, 6)):\n",
    "            fnr_g = fnr_s * (1 + inc)\n",
    "\n",
    "            mat = multi_matrix(8, 12, p, fnr_s, fnr_g).mean(axis=0) / (8 * 12)\n",
    "            p32s2 = multi_pnsk(32, 2, 2, p, popsize, fnr_s, fnr_g, 5000).mean(axis=0) / popsize\n",
    "\n",
    "            I_mat[i, j] = mat[1]\n",
    "            I_pns[i, j] = p32s2[1]\n",
    "    plots_mat.append(I_mat)\n",
    "    plots_pns.append(I_pns)"
   ]
  },
  {
   "cell_type": "code",
   "execution_count": null,
   "metadata": {},
   "outputs": [],
   "source": [
    "def plot_fnr(plots):\n",
    "    fig, axes = plt.subplots(2, 2, figsize=(12, 8))\n",
    "\n",
    "    p = 0\n",
    "    for i in range(2):\n",
    "        for j in range(2):\n",
    "            ax = axes[i, j]\n",
    "\n",
    "            data = plots[p]\n",
    "            im = ax.imshow(data * popsize)\n",
    "            fig.colorbar(im, ax=ax)\n",
    "            \n",
    "            ax.set_title('Prevalência = {}%.\\n {} Infectados.'.format(ps[p] * 100, ps[p] * popsize))\n",
    "\n",
    "            ax.set_ylabel('FNR Teste Isolado')\n",
    "            ax.set_xlabel('Per. de Acréscimo no FNR')\n",
    "\n",
    "\n",
    "            ax.set_yticklabels([0, '2%', '6.5%', '11%', '15%', '20%'])\n",
    "            ax.set_xticks([0, 1, 2, 3, 4, 5])\n",
    "            ax.set_xticklabels(['0%', '36%', '72%', '100%', '150%', '180%'])\n",
    "\n",
    "            for edge, spine in ax.spines.items():\n",
    "                spine.set_visible(False)\n",
    "\n",
    "            ax.set_xticks(np.arange(data.shape[1]+1)-.5, minor=True)\n",
    "            ax.set_yticks(np.arange(data.shape[0]+1)-.5, minor=True)\n",
    "            ax.grid(which=\"minor\", color=\"w\", linestyle='-', linewidth=2)\n",
    "            ax.tick_params(which=\"minor\", bottom=False, left=False)\n",
    "        \n",
    "            p += 1\n",
    "    \n",
    "    title = 'População de 5000 pessoas. Células mostram quantidade de PESSOAS onde erramos.'\n",
    "    fig.suptitle(title,\n",
    "                 horizontalalignment='center',\n",
    "                 verticalalignment='center', fontsize=12)\n",
    "    fig.tight_layout(pad=3)"
   ]
  },
  {
   "cell_type": "code",
   "execution_count": null,
   "metadata": {},
   "outputs": [],
   "source": [
    "plot_fnr(plots_mat)"
   ]
  },
  {
   "cell_type": "code",
   "execution_count": null,
   "metadata": {
    "scrolled": true
   },
   "outputs": [],
   "source": [
    "plot_fnr(plots_pns)"
   ]
  },
  {
   "cell_type": "markdown",
   "metadata": {},
   "source": [
    "## Brincando um pouco com os métodos. Testes de Sanidade"
   ]
  },
  {
   "cell_type": "code",
   "execution_count": null,
   "metadata": {},
   "outputs": [],
   "source": [
    "fig, ax = plt.subplots(figsize=(12, 8))\n",
    "\n",
    "results = multi_pnsk(32, 2, 2, 0.03, 10000, 0, 0, sims=10000) / 5000\n",
    "\n",
    "ax.set_title('P32S2. Perc. infectados = 3%. Histograma de 10000 simulações.')\n",
    "ax.hist(results[:, 0], bins=50, edgecolor='k')\n",
    "ax.set_ylabel('Número de Simulações')\n",
    "ax.set_xlabel('Fração de testes necessários em comparação ao caso base')\n",
    "despine(ax)"
   ]
  },
  {
   "cell_type": "code",
   "execution_count": null,
   "metadata": {},
   "outputs": [],
   "source": [
    "Acréscimofig, ax = plt.subplots(figsize=(12, 8))\n",
    "\n",
    "results = multi_matrix(8, 12, 0.03, 0, 0)\n",
    "\n",
    "ax.set_title('Modelo em Matriz 8 por 12')\n",
    "ax.hist(results[:, 0], bins=50, edgecolor='k')\n",
    "ax.set_ylabel('Número de Simulações')\n",
    "ax.set_xlabel('Fração de testes necessários em comparação ao caso base')\n",
    "despine(ax)"
   ]
  },
  {
   "cell_type": "markdown",
   "metadata": {},
   "source": [
    "## Referências\n",
    "\n",
    "1. Broder, Andrei Z., and Kumar, Ravi. \"A Note on Double Pooling Tests.\" arXiv preprint arXiv:2004.01684 (2020). Online: https://arxiv.org/pdf/2004.01684.pdf \n",
    "\n",
    "1. Dorfman, Robert.  “The detection of defective members of large populations.” Ann MathStat., 14:436–440, 1943\n",
    "\n",
    "1. Du, Ding-Zhu and Hwang, Frank K. “Combinatorial Group Testing and its Applications”. World Scientific, 1993.\n",
    "\n",
    "1. Eberhardt, Jens Niklas., Breuckmann, Nikolas Peter., and Eberhardt, Christiane Sigrid. \"Multi-Stage Group Testing Improves Efficiency of Large-Scale COVID-19 Screening.\" Journal of Clinical Virology (2020): 104382. Online: https://www.sciencedirect.com/science/article/pii/S1386653220301244 \n",
    "\n",
    "1. Seifried, Erhard., et al. “Pool testing of SARS-CoV-2 samples increases test capacity.” (2020). Online: https://www.medica.de/de/News/Redaktionelle_News/Pool-Testen_von_SARS-CoV-2_Proben_erhoht_Testkapazitat. \n",
    "\n",
    "1. Gollier, Christian, and Olivier Gossner. \"Group testing against Covid-19.\" Covid Economics 1.2 (2020): 32-42. Online: https://www.tse-fr.eu/sites/default/files/TSE/documents/doc/by/gollier/covid_economics.pdf \n",
    "\n",
    "1. Sinnott-Armstrong, Nasa., and Klein, Daniel L., and Hickey, Brendam. \"Evaluation of Group Testing for SARS-CoV-2 RNA.\" medRxiv (2020). Online: https://www.medrxiv.org/content/10.1101/2020.03.27.20043968v1 \n",
    "\n",
    "1. Yelin, Idan, et al. \"Evaluation of COVID-19 RT-qPCR test in multi-sample pools.\" medRxiv (2020). Online: https://www.medrxiv.org/content/10.1101/2020.03.26.20039438v1 \n",
    "\n",
    "1. Zhu, Na, et al. \"A novel coronavirus from patients with pneumonia in China, 2019.\" New England Journal of Medicine (2020). Online: https://www.nejm.org/doi/full/10.1056/NEJMoa2001017 "
   ]
  },
  {
   "cell_type": "code",
   "execution_count": null,
   "metadata": {},
   "outputs": [],
   "source": []
  }
 ],
 "metadata": {
  "kernelspec": {
   "display_name": "Python 3",
   "language": "python",
   "name": "python3"
  },
  "language_info": {
   "codemirror_mode": {
    "name": "ipython",
    "version": 3
   },
   "file_extension": ".py",
   "mimetype": "text/x-python",
   "name": "python",
   "nbconvert_exporter": "python",
   "pygments_lexer": "ipython3",
   "version": "3.7.7"
  }
 },
 "nbformat": 4,
 "nbformat_minor": 4
}
